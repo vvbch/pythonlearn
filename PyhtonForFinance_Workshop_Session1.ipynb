{
  "cells": [
    {
      "cell_type": "markdown",
      "metadata": {
        "id": "view-in-github",
        "colab_type": "text"
      },
      "source": [
        "<a href=\"https://colab.research.google.com/github/vvbch/pythonlearn/blob/main/PyhtonForFinance_Workshop_Session1.ipynb\" target=\"_parent\"><img src=\"https://colab.research.google.com/assets/colab-badge.svg\" alt=\"Open In Colab\"/></a>"
      ]
    },
    {
      "cell_type": "markdown",
      "metadata": {
        "id": "78A13v58_FWx"
      },
      "source": [
        "# Session 1 - Basics of Python\n",
        "\n",
        "<ul>\n",
        "    <li>Variables - Elementary</li>\n",
        "    <li>Display Statements</li>\n",
        "    <li>Variables - Composite </li>\n",
        "    <li>Loops Statements</li>\n",
        "    <li>Importing Libraries and Modules</li>\n",
        "    <li>Importing Data - API/Files</li>\n",
        "</ul>\n",
        "\n",
        "### Power of Python\n",
        "#### Get Standardized Data -> Model -> Decision Making\n",
        "#### Algorithm - Mechanistic Thinking - Breaking it down to small manageable steps\n",
        "Think - Bottoms-up in Python\n",
        "Top-Down in Finance\n",
        "\n",
        "_We will also look at a basics of python beyond this session_"
      ]
    },
    {
      "cell_type": "markdown",
      "metadata": {
        "id": "n1_sMuiI_FW4"
      },
      "source": [
        "### Elementary Variables\n",
        "Unitary elements of data stored in variables\n",
        "\n",
        "<u>Numbers - int (integers) and floats</u>\n",
        "\n",
        "String\n",
        "\n",
        "Bool\n",
        "\n",
        "Assisnment Operator (=) / Reassignment operations\n",
        "\n",
        "Arithmatic operations, + , - , * , / , % , ** , += , -="
      ]
    },
    {
      "cell_type": "code",
      "execution_count": null,
      "metadata": {
        "id": "2kf0skzc_FW5"
      },
      "outputs": [],
      "source": [
        "x = 20"
      ]
    },
    {
      "cell_type": "code",
      "execution_count": null,
      "metadata": {
        "colab": {
          "base_uri": "https://localhost:8080/"
        },
        "id": "WLvrGhfj_FW6",
        "outputId": "e8878feb-21ac-46cd-e67d-88b404a4a840"
      },
      "outputs": [
        {
          "output_type": "execute_result",
          "data": {
            "text/plain": [
              "20"
            ]
          },
          "metadata": {},
          "execution_count": 14
        }
      ],
      "source": [
        "x"
      ]
    },
    {
      "cell_type": "code",
      "execution_count": null,
      "metadata": {
        "id": "xLvS4YsB_FW7"
      },
      "outputs": [],
      "source": [
        "x = x + 4"
      ]
    },
    {
      "cell_type": "code",
      "execution_count": null,
      "metadata": {
        "colab": {
          "base_uri": "https://localhost:8080/"
        },
        "id": "cPO2muBK_FW7",
        "outputId": "f8933d18-2629-4d83-d5fc-27f2164f9632"
      },
      "outputs": [
        {
          "output_type": "execute_result",
          "data": {
            "text/plain": [
              "24"
            ]
          },
          "metadata": {},
          "execution_count": 16
        }
      ],
      "source": [
        "x"
      ]
    },
    {
      "cell_type": "code",
      "execution_count": null,
      "metadata": {
        "colab": {
          "base_uri": "https://localhost:8080/",
          "height": 167
        },
        "id": "NIhy_9Ew_FW7",
        "outputId": "e14c26b8-6be5-46b8-b7cf-aafc9a5e08ca"
      },
      "outputs": [
        {
          "output_type": "error",
          "ename": "NameError",
          "evalue": "ignored",
          "traceback": [
            "\u001b[0;31m---------------------------------------------------------------------------\u001b[0m",
            "\u001b[0;31mNameError\u001b[0m                                 Traceback (most recent call last)",
            "\u001b[0;32m<ipython-input-17-b5fec669aca1>\u001b[0m in \u001b[0;36m<module>\u001b[0;34m()\u001b[0m\n\u001b[0;32m----> 1\u001b[0;31m \u001b[0mX\u001b[0m\u001b[0;34m\u001b[0m\u001b[0;34m\u001b[0m\u001b[0m\n\u001b[0m",
            "\u001b[0;31mNameError\u001b[0m: name 'X' is not defined"
          ]
        }
      ],
      "source": [
        "X"
      ]
    },
    {
      "cell_type": "code",
      "execution_count": null,
      "metadata": {
        "colab": {
          "base_uri": "https://localhost:8080/",
          "height": 167
        },
        "id": "dBgjBvQ3_FW8",
        "outputId": "ddf594ad-4d10-4873-b9aa-f5d54e88fd45"
      },
      "outputs": [
        {
          "output_type": "error",
          "ename": "NameError",
          "evalue": "ignored",
          "traceback": [
            "\u001b[0;31m---------------------------------------------------------------------------\u001b[0m",
            "\u001b[0;31mNameError\u001b[0m                                 Traceback (most recent call last)",
            "\u001b[0;32m<ipython-input-18-9063a9f0e032>\u001b[0m in \u001b[0;36m<module>\u001b[0;34m()\u001b[0m\n\u001b[0;32m----> 1\u001b[0;31m \u001b[0my\u001b[0m\u001b[0;34m\u001b[0m\u001b[0;34m\u001b[0m\u001b[0m\n\u001b[0m",
            "\u001b[0;31mNameError\u001b[0m: name 'y' is not defined"
          ]
        }
      ],
      "source": [
        "y"
      ]
    },
    {
      "cell_type": "code",
      "execution_count": null,
      "metadata": {
        "colab": {
          "base_uri": "https://localhost:8080/"
        },
        "id": "XXoWhgdkreUS",
        "outputId": "c76d2dd3-c1b8-47eb-c492-25a4aa318d77"
      },
      "outputs": [
        {
          "output_type": "execute_result",
          "data": {
            "text/plain": [
              "float"
            ]
          },
          "metadata": {},
          "execution_count": 19
        }
      ],
      "source": [
        "x = 10.5\n",
        "type(x)"
      ]
    },
    {
      "cell_type": "code",
      "execution_count": null,
      "metadata": {
        "colab": {
          "base_uri": "https://localhost:8080/",
          "height": 35
        },
        "id": "SQWs0Oc4_FW8",
        "outputId": "6d273c01-f7a0-4e0f-faec-b0d1bbee86da"
      },
      "outputs": [
        {
          "output_type": "execute_result",
          "data": {
            "application/vnd.google.colaboratory.intrinsic+json": {
              "type": "string"
            },
            "text/plain": [
              "'shivam'"
            ]
          },
          "metadata": {},
          "execution_count": 20
        }
      ],
      "source": [
        "first_name = 'shivam'\n",
        "first_name"
      ]
    },
    {
      "cell_type": "code",
      "execution_count": null,
      "metadata": {
        "colab": {
          "base_uri": "https://localhost:8080/",
          "height": 35
        },
        "id": "jSgdyq2-_FW8",
        "outputId": "10880883-8dca-4af8-bc71-775bcadc0114"
      },
      "outputs": [
        {
          "output_type": "execute_result",
          "data": {
            "application/vnd.google.colaboratory.intrinsic+json": {
              "type": "string"
            },
            "text/plain": [
              "'nayak'"
            ]
          },
          "metadata": {},
          "execution_count": 22
        }
      ],
      "source": [
        "last_name = 'nayak'\n",
        "last_name"
      ]
    },
    {
      "cell_type": "code",
      "source": [
        "xN = 10\n",
        "xN"
      ],
      "metadata": {
        "colab": {
          "base_uri": "https://localhost:8080/"
        },
        "id": "wgwJaZg_1YMX",
        "outputId": "4b608ee1-fe4f-4c94-9841-070c25f65523"
      },
      "execution_count": null,
      "outputs": [
        {
          "output_type": "execute_result",
          "data": {
            "text/plain": [
              "10"
            ]
          },
          "metadata": {},
          "execution_count": 23
        }
      ]
    },
    {
      "cell_type": "code",
      "source": [
        "xS = '10'\n",
        "xS"
      ],
      "metadata": {
        "colab": {
          "base_uri": "https://localhost:8080/",
          "height": 35
        },
        "id": "hA-qVD_41cLm",
        "outputId": "4e7784b9-2a08-4014-baf7-d020e0c4cfc0"
      },
      "execution_count": null,
      "outputs": [
        {
          "output_type": "execute_result",
          "data": {
            "application/vnd.google.colaboratory.intrinsic+json": {
              "type": "string"
            },
            "text/plain": [
              "'10'"
            ]
          },
          "metadata": {},
          "execution_count": 24
        }
      ]
    },
    {
      "cell_type": "code",
      "source": [
        "type(xS)"
      ],
      "metadata": {
        "colab": {
          "base_uri": "https://localhost:8080/"
        },
        "id": "sypGFXOK1g-A",
        "outputId": "ad6ff964-4686-4ef4-f8d4-3294602f06a4"
      },
      "execution_count": null,
      "outputs": [
        {
          "output_type": "execute_result",
          "data": {
            "text/plain": [
              "str"
            ]
          },
          "metadata": {},
          "execution_count": 26
        }
      ]
    },
    {
      "cell_type": "code",
      "execution_count": null,
      "metadata": {
        "colab": {
          "base_uri": "https://localhost:8080/",
          "height": 35
        },
        "id": "JeNMVyaK_FW9",
        "outputId": "02c161a8-226a-4964-c579-34fe1284f25e"
      },
      "outputs": [
        {
          "data": {
            "application/vnd.google.colaboratory.intrinsic+json": {
              "type": "string"
            },
            "text/plain": [
              "'shivamnayak1'"
            ]
          },
          "execution_count": 22,
          "metadata": {},
          "output_type": "execute_result"
        }
      ],
      "source": [
        "first_name + last_name"
      ]
    },
    {
      "cell_type": "code",
      "execution_count": null,
      "metadata": {
        "colab": {
          "base_uri": "https://localhost:8080/",
          "height": 35
        },
        "id": "qexkBIQ8_FW9",
        "outputId": "d35faf19-0577-45a3-aab4-293cbcd126d0"
      },
      "outputs": [
        {
          "output_type": "execute_result",
          "data": {
            "application/vnd.google.colaboratory.intrinsic+json": {
              "type": "string"
            },
            "text/plain": [
              "'shivam nayak'"
            ]
          },
          "metadata": {},
          "execution_count": 27
        }
      ],
      "source": [
        "first_name + ' ' + last_name"
      ]
    },
    {
      "cell_type": "code",
      "execution_count": null,
      "metadata": {
        "colab": {
          "base_uri": "https://localhost:8080/"
        },
        "id": "0P8K2tcH_FW9",
        "outputId": "799b94e2-5b92-4b42-971c-f6d4435d10ad"
      },
      "outputs": [
        {
          "output_type": "execute_result",
          "data": {
            "text/plain": [
              "44"
            ]
          },
          "metadata": {},
          "execution_count": 30
        }
      ],
      "source": [
        "x = 24\n",
        "y = 20\n",
        "x + y"
      ]
    },
    {
      "cell_type": "code",
      "execution_count": null,
      "metadata": {
        "colab": {
          "base_uri": "https://localhost:8080/"
        },
        "id": "iFzzXXVd_FW-",
        "outputId": "b83dec74-ab89-4ef2-e319-b533dba1ab9c"
      },
      "outputs": [
        {
          "output_type": "execute_result",
          "data": {
            "text/plain": [
              "4"
            ]
          },
          "metadata": {},
          "execution_count": 31
        }
      ],
      "source": [
        "x - y"
      ]
    },
    {
      "cell_type": "code",
      "execution_count": null,
      "metadata": {
        "colab": {
          "base_uri": "https://localhost:8080/"
        },
        "id": "cr70nkJetTgm",
        "outputId": "b39daabe-ca64-4ea0-8ff9-67ff3debd660"
      },
      "outputs": [
        {
          "output_type": "execute_result",
          "data": {
            "text/plain": [
              "480"
            ]
          },
          "metadata": {},
          "execution_count": 32
        }
      ],
      "source": [
        "x * y"
      ]
    },
    {
      "cell_type": "code",
      "execution_count": null,
      "metadata": {
        "colab": {
          "base_uri": "https://localhost:8080/"
        },
        "id": "0vCPBPZhtVs2",
        "outputId": "252a3b98-f535-48b0-e45b-74adf5a2c104"
      },
      "outputs": [
        {
          "output_type": "execute_result",
          "data": {
            "text/plain": [
              "1.2"
            ]
          },
          "metadata": {},
          "execution_count": 33
        }
      ],
      "source": [
        "x / y"
      ]
    },
    {
      "cell_type": "code",
      "execution_count": null,
      "metadata": {
        "colab": {
          "base_uri": "https://localhost:8080/"
        },
        "id": "TCXgjKCv_FW-",
        "outputId": "be18ff4e-8154-4c1c-d847-fa17292da4c1"
      },
      "outputs": [
        {
          "output_type": "execute_result",
          "data": {
            "text/plain": [
              "400"
            ]
          },
          "metadata": {},
          "execution_count": 34
        }
      ],
      "source": [
        "y ** 2"
      ]
    },
    {
      "cell_type": "code",
      "execution_count": null,
      "metadata": {
        "colab": {
          "base_uri": "https://localhost:8080/"
        },
        "id": "WHGnjaOI_FW-",
        "outputId": "4d66e971-830f-4d6d-fb57-64a4f97cb93e"
      },
      "outputs": [
        {
          "output_type": "execute_result",
          "data": {
            "text/plain": [
              "13824"
            ]
          },
          "metadata": {},
          "execution_count": 39
        }
      ],
      "source": [
        "x ** 3"
      ]
    },
    {
      "cell_type": "code",
      "source": [
        "x * x * x"
      ],
      "metadata": {
        "colab": {
          "base_uri": "https://localhost:8080/"
        },
        "id": "ehj6rkNk2xfk",
        "outputId": "8dc104ab-68f3-4895-8bfc-77b183ffe320"
      },
      "execution_count": null,
      "outputs": [
        {
          "output_type": "execute_result",
          "data": {
            "text/plain": [
              "13824"
            ]
          },
          "metadata": {},
          "execution_count": 40
        }
      ]
    },
    {
      "cell_type": "code",
      "execution_count": null,
      "metadata": {
        "colab": {
          "base_uri": "https://localhost:8080/"
        },
        "id": "n5VCQ6-R_FW_",
        "outputId": "db786f3e-3a4e-41d5-d779-25d9373430f7"
      },
      "outputs": [
        {
          "output_type": "execute_result",
          "data": {
            "text/plain": [
              "4"
            ]
          },
          "metadata": {},
          "execution_count": 36
        }
      ],
      "source": [
        "x % y"
      ]
    },
    {
      "cell_type": "code",
      "source": [
        "20 % 6"
      ],
      "metadata": {
        "colab": {
          "base_uri": "https://localhost:8080/"
        },
        "id": "y_m8H4cJ2oaa",
        "outputId": "99c5cd4e-8f00-497c-b4ad-3793122bc55c"
      },
      "execution_count": null,
      "outputs": [
        {
          "output_type": "execute_result",
          "data": {
            "text/plain": [
              "2"
            ]
          },
          "metadata": {},
          "execution_count": 37
        }
      ]
    },
    {
      "cell_type": "markdown",
      "metadata": {
        "id": "EHm8qnAK_FW_"
      },
      "source": [
        "### Classwork 1\n",
        "\n",
        "Test out what += and -= operator does to x and y"
      ]
    },
    {
      "cell_type": "code",
      "execution_count": null,
      "metadata": {
        "colab": {
          "base_uri": "https://localhost:8080/"
        },
        "id": "X8BKl6iR_FW_",
        "outputId": "ab572a2e-2610-44c4-c48a-900c9ce49494"
      },
      "outputs": [
        {
          "output_type": "execute_result",
          "data": {
            "text/plain": [
              "24"
            ]
          },
          "metadata": {},
          "execution_count": 46
        }
      ],
      "source": [
        "x += 1 \n",
        "x"
      ]
    },
    {
      "cell_type": "code",
      "execution_count": null,
      "metadata": {
        "colab": {
          "base_uri": "https://localhost:8080/"
        },
        "id": "seMSxPby_FXA",
        "outputId": "f75a143b-feb4-4f1f-b5cb-81950f51412e"
      },
      "outputs": [
        {
          "output_type": "execute_result",
          "data": {
            "text/plain": [
              "21"
            ]
          },
          "metadata": {},
          "execution_count": 41
        }
      ],
      "source": [
        "x = 20\n",
        "x = x + 1\n",
        "x"
      ]
    },
    {
      "cell_type": "code",
      "execution_count": null,
      "metadata": {
        "colab": {
          "base_uri": "https://localhost:8080/"
        },
        "id": "5wYx9wtk_FXA",
        "outputId": "558b8463-2b1f-4a21-b288-7e5d3a94b4da"
      },
      "outputs": [
        {
          "output_type": "execute_result",
          "data": {
            "text/plain": [
              "22"
            ]
          },
          "metadata": {},
          "execution_count": 42
        }
      ],
      "source": [
        "x + 1"
      ]
    },
    {
      "cell_type": "code",
      "execution_count": null,
      "metadata": {
        "colab": {
          "base_uri": "https://localhost:8080/"
        },
        "id": "8EPojtaf_FXA",
        "outputId": "bcef6515-f79a-4638-fbb5-e31b63bfdafc"
      },
      "outputs": [
        {
          "output_type": "execute_result",
          "data": {
            "text/plain": [
              "26"
            ]
          },
          "metadata": {},
          "execution_count": 47
        }
      ],
      "source": [
        "x\n",
        "y = x + 1\n",
        "y\n"
      ]
    },
    {
      "cell_type": "markdown",
      "metadata": {
        "id": "m8X15C1o_FXA"
      },
      "source": [
        "### Display Staments\n",
        "\n",
        "print() in general across python\n",
        "\n",
        "variable name directly in jupyter only"
      ]
    },
    {
      "cell_type": "code",
      "execution_count": null,
      "metadata": {
        "colab": {
          "base_uri": "https://localhost:8080/"
        },
        "id": "iHg_H6aO_FXA",
        "outputId": "ef6cd2c2-e39b-4b7d-f388-7ce35c1b8991"
      },
      "outputs": [
        {
          "output_type": "stream",
          "name": "stdout",
          "text": [
            "shivam\n"
          ]
        }
      ],
      "source": [
        "print (first_name)"
      ]
    },
    {
      "cell_type": "code",
      "execution_count": null,
      "metadata": {
        "colab": {
          "base_uri": "https://localhost:8080/"
        },
        "id": "516-CMmpwCel",
        "outputId": "6f0a7b72-562b-4a83-f8e0-812583701465"
      },
      "outputs": [
        {
          "output_type": "stream",
          "name": "stdout",
          "text": [
            "first_name\n"
          ]
        }
      ],
      "source": [
        "print ('first_name')"
      ]
    },
    {
      "cell_type": "code",
      "execution_count": null,
      "metadata": {
        "colab": {
          "base_uri": "https://localhost:8080/",
          "height": 35
        },
        "id": "-fMYQFFt_FXB",
        "outputId": "c1db3e18-112d-4a78-b9c7-546b01192177"
      },
      "outputs": [
        {
          "output_type": "execute_result",
          "data": {
            "application/vnd.google.colaboratory.intrinsic+json": {
              "type": "string"
            },
            "text/plain": [
              "'nayak'"
            ]
          },
          "metadata": {},
          "execution_count": 50
        }
      ],
      "source": [
        "last_name"
      ]
    },
    {
      "cell_type": "code",
      "execution_count": null,
      "metadata": {
        "colab": {
          "base_uri": "https://localhost:8080/"
        },
        "id": "qx6k96K9_FXB",
        "outputId": "ccbba9fd-30e3-4b42-bc9f-5276dd674620"
      },
      "outputs": [
        {
          "output_type": "stream",
          "name": "stdout",
          "text": [
            "49\n",
            "24\n",
            "25\n"
          ]
        }
      ],
      "source": [
        "print(x + y)\n",
        "print (x)\n",
        "print (y)"
      ]
    },
    {
      "cell_type": "code",
      "execution_count": null,
      "metadata": {
        "colab": {
          "base_uri": "https://localhost:8080/"
        },
        "id": "bFb4RW_7wQxg",
        "outputId": "7683c5d9-e561-4008-a74b-ef508f38abe9"
      },
      "outputs": [
        {
          "output_type": "stream",
          "name": "stdout",
          "text": [
            "shivam nayak\n"
          ]
        }
      ],
      "source": [
        "print (first_name + ' ' + last_name)"
      ]
    },
    {
      "cell_type": "markdown",
      "metadata": {
        "id": "B9Yc45zK_FXB"
      },
      "source": [
        "### Variable Composite\n",
        "\n",
        "<u>array</u> - collection of elements by number, define in []\n",
        "\n",
        "<u>dictionary</u> - collection of elements by keywork, define in {}\n",
        "\n",
        "tuple - fixed collection elements, defined in ()\n",
        "\n",
        "<u>Array splicing</u> --- array[start_positions:end_position]\n",
        "\n",
        "<u>Array Methods</u> --- append, extend, index"
      ]
    },
    {
      "cell_type": "code",
      "execution_count": null,
      "metadata": {
        "id": "YgTNa1fO_FXB"
      },
      "outputs": [],
      "source": [
        "even_numbers = [2,4,6,8,10,12]\n",
        "even_numbers"
      ]
    },
    {
      "cell_type": "code",
      "execution_count": null,
      "metadata": {
        "id": "1B6l58fl_FXC"
      },
      "outputs": [],
      "source": [
        "even_numbers[3]"
      ]
    },
    {
      "cell_type": "code",
      "execution_count": null,
      "metadata": {
        "id": "USiXxSiP_FXC"
      },
      "outputs": [],
      "source": [
        "even_numbers.index(10)"
      ]
    },
    {
      "cell_type": "code",
      "execution_count": null,
      "metadata": {
        "id": "ifITQzbJ_FXC"
      },
      "outputs": [],
      "source": [
        "even_numbers.append(14)"
      ]
    },
    {
      "cell_type": "code",
      "execution_count": null,
      "metadata": {
        "id": "12vSSBv-_FXC"
      },
      "outputs": [],
      "source": [
        "even_numbers"
      ]
    },
    {
      "cell_type": "code",
      "execution_count": null,
      "metadata": {
        "id": "ejENWWd2_FXD"
      },
      "outputs": [],
      "source": [
        "even_numbers.extend([16,18])"
      ]
    },
    {
      "cell_type": "code",
      "execution_count": null,
      "metadata": {
        "id": "kzyUftpO_FXD"
      },
      "outputs": [],
      "source": [
        "even_numbers"
      ]
    },
    {
      "cell_type": "code",
      "execution_count": null,
      "metadata": {
        "id": "FTDs6B5V_FXD"
      },
      "outputs": [],
      "source": [
        "even_numbers[1:5]"
      ]
    },
    {
      "cell_type": "code",
      "execution_count": null,
      "metadata": {
        "id": "_RbyAusS_FXD"
      },
      "outputs": [],
      "source": [
        "price = {'GE':20, 'PG':60, 'MSFT':120}\n",
        "price['MSFT']"
      ]
    },
    {
      "cell_type": "markdown",
      "metadata": {
        "id": "kdLNjJ5j_FXE"
      },
      "source": [
        "### Loops\n",
        "Repeat a set of statements in loops\n",
        "\n",
        "<u>For loop:</u> repeat the loop a fixed number of times\n",
        "\n",
        "While loop: repeat the loop till the condition is met\n",
        "\n",
        "<code>for counter in range(start,end,step):\n",
        "    statement block</code>\n",
        "    \n",
        "<code>for x in array:\n",
        "    statement block</code>"
      ]
    },
    {
      "cell_type": "code",
      "execution_count": null,
      "metadata": {
        "id": "vyqUoJ4N_FXE"
      },
      "outputs": [],
      "source": [
        "for x in range(6,18,3):\n",
        "    print(x)"
      ]
    },
    {
      "cell_type": "code",
      "execution_count": null,
      "metadata": {
        "id": "jkGos43Y1jZY"
      },
      "outputs": [],
      "source": [
        "print (x)"
      ]
    },
    {
      "cell_type": "code",
      "execution_count": null,
      "metadata": {
        "id": "7s3W4Yv22WiQ"
      },
      "outputs": [],
      "source": [
        "even_numbers"
      ]
    },
    {
      "cell_type": "code",
      "execution_count": null,
      "metadata": {
        "id": "MkUoBTS92wsy"
      },
      "outputs": [],
      "source": [
        "length = len(even_numbers)"
      ]
    },
    {
      "cell_type": "code",
      "execution_count": null,
      "metadata": {
        "id": "bOrO9M_R2giR"
      },
      "outputs": [],
      "source": [
        "for x in range (0,length,1):\n",
        "  print (even_numbers[x])"
      ]
    },
    {
      "cell_type": "code",
      "execution_count": null,
      "metadata": {
        "id": "uAS-1IG4_FXE"
      },
      "outputs": [],
      "source": [
        "for x in even_numbers:\n",
        "    print(x)"
      ]
    },
    {
      "cell_type": "markdown",
      "metadata": {
        "id": "K256Zl0r_FXF"
      },
      "source": [
        "### Classwork 2\n",
        "\n",
        "Run a loop of displaying only first 4 elements of the array even_numbers"
      ]
    },
    {
      "cell_type": "code",
      "execution_count": null,
      "metadata": {
        "id": "cJ7nm28L4z-T"
      },
      "outputs": [],
      "source": [
        "even_numbers[2:6]"
      ]
    },
    {
      "cell_type": "code",
      "execution_count": null,
      "metadata": {
        "id": "vA3DxDCN_FXF"
      },
      "outputs": [],
      "source": [
        "for x in even_numbers[2:6]:\n",
        "  print(x)"
      ]
    },
    {
      "cell_type": "code",
      "execution_count": null,
      "metadata": {
        "id": "t75oEuXG5U7I"
      },
      "outputs": [],
      "source": [
        "price"
      ]
    },
    {
      "cell_type": "code",
      "execution_count": null,
      "metadata": {
        "id": "hBr8cjJ36V_c"
      },
      "outputs": [],
      "source": [
        "price['MSFT']"
      ]
    },
    {
      "cell_type": "code",
      "execution_count": null,
      "metadata": {
        "id": "n6aEolK55riY"
      },
      "outputs": [],
      "source": [
        "stock_holding = {'GE':2, 'PG':6, 'MSFT':1}"
      ]
    },
    {
      "cell_type": "code",
      "execution_count": null,
      "metadata": {
        "id": "b-SEvZmF_FXF"
      },
      "outputs": [],
      "source": [
        "tickers = ['GE', 'PG', 'MSFT']"
      ]
    },
    {
      "cell_type": "code",
      "execution_count": null,
      "metadata": {
        "id": "IVNMQkVb_FXF"
      },
      "outputs": [],
      "source": [
        "cost_price = 0\n",
        "\n",
        "for t in tickers:\n",
        "  print (t)\n",
        "  cost_price = cost_price + price[t] * stock_holding[t]\n",
        "        \n",
        "cost_price"
      ]
    },
    {
      "cell_type": "code",
      "execution_count": null,
      "metadata": {
        "id": "VMbAU4L36BJx"
      },
      "outputs": [],
      "source": [
        "120 + 360 + 40"
      ]
    },
    {
      "cell_type": "markdown",
      "metadata": {
        "id": "cR5a-NNB_FXF"
      },
      "source": [
        "### Importing Libraries\n",
        "\n",
        "math - For advance mathematical operations\n",
        "\n",
        "random - Generate random numbers\n",
        "\n",
        "scipy - cumulative package of several libraries\n",
        "\n",
        "numpy - library used for array and matrix operations\n",
        "\n",
        "pandas - library used for creating data, array, dictonary objects (pandas objects)\n",
        "\n",
        "pandas_datareader - library used for reading data into pandas objects\n",
        "\n",
        "request - library used to make api requests\n",
        "\n",
        "matplotlib - libary used to plot graphs\n",
        "\n",
        "statsmodels - library used for statistical operations\n",
        "\n",
        "\n",
        "there are 4 ways to import libraries, the three most common ones are shown below"
      ]
    },
    {
      "cell_type": "code",
      "execution_count": null,
      "metadata": {
        "id": "LOIydS9G_FXG"
      },
      "outputs": [],
      "source": [
        "import math"
      ]
    },
    {
      "cell_type": "code",
      "execution_count": null,
      "metadata": {
        "id": "evB42-mO_FXG"
      },
      "outputs": [],
      "source": [
        "import math as m"
      ]
    },
    {
      "cell_type": "code",
      "execution_count": null,
      "metadata": {
        "id": "b2W1mjMD_FXG"
      },
      "outputs": [],
      "source": [
        "from math import sqrt, sin"
      ]
    },
    {
      "cell_type": "code",
      "execution_count": null,
      "metadata": {
        "id": "-FIFf5zX_FXG"
      },
      "outputs": [],
      "source": [
        "math.sqrt(25)"
      ]
    },
    {
      "cell_type": "code",
      "execution_count": null,
      "metadata": {
        "id": "gRGt9u7I_FXH"
      },
      "outputs": [],
      "source": [
        "m.sqrt(25)"
      ]
    },
    {
      "cell_type": "code",
      "execution_count": null,
      "metadata": {
        "id": "ISmq5qCZ_FXH"
      },
      "outputs": [],
      "source": [
        "sqrt(25)"
      ]
    },
    {
      "cell_type": "code",
      "execution_count": null,
      "metadata": {
        "id": "9KlBUHcn_FXH"
      },
      "outputs": [],
      "source": [
        "import random"
      ]
    },
    {
      "cell_type": "code",
      "execution_count": null,
      "metadata": {
        "id": "CsGjUUUb_FXH"
      },
      "outputs": [],
      "source": [
        "random.randint(1,6)"
      ]
    },
    {
      "cell_type": "code",
      "execution_count": null,
      "metadata": {
        "id": "t7zdAXiA8I4e"
      },
      "outputs": [],
      "source": [
        "random.random()"
      ]
    },
    {
      "cell_type": "code",
      "execution_count": null,
      "metadata": {
        "id": "8oPxL_xI_FXI"
      },
      "outputs": [],
      "source": [
        "help(math.sqrt)"
      ]
    },
    {
      "cell_type": "code",
      "execution_count": null,
      "metadata": {
        "id": "8BxOhTUW_FXI"
      },
      "outputs": [],
      "source": [
        "help(m)"
      ]
    },
    {
      "cell_type": "code",
      "execution_count": null,
      "metadata": {
        "id": "mJUxab9M_FXI"
      },
      "outputs": [],
      "source": [
        "help(random)"
      ]
    },
    {
      "cell_type": "markdown",
      "metadata": {
        "id": "mPm381Xr_FXI"
      },
      "source": [
        "### Classwork 3\n",
        "\n",
        "Create an array of 10 numbers that contains values of 10 random stock_price percentage movements of a particular stock, which can take value between -10% to +10%"
      ]
    },
    {
      "cell_type": "code",
      "execution_count": null,
      "metadata": {
        "id": "u-3r9CTA_FXJ"
      },
      "outputs": [],
      "source": [
        "random_array = []\n",
        "\n",
        "for x in range(10):\n",
        "    random_array.append(random.random() * 5 + 15)\n",
        "    #random_array.append(random.randint(-10,10))\n",
        "\n",
        "random_array"
      ]
    },
    {
      "cell_type": "markdown",
      "metadata": {
        "id": "V2eRm5qw_FXL"
      },
      "source": [
        "# End of Session 1 - Beyond this session\n",
        "\n",
        "This session introduced you very basics of some elements of Python, and kept the difficulty level to a minimal yet helps you take your first steps into python. \n",
        "\n",
        "Beyond this session you should try to look at few more basic examples of python of different data types, loops, conditional statements, and various libraries available.\n",
        "\n",
        "Some good general reading material on python is available <a href=\"https://www.python.org/\">here</a>. Or alternatively incase you have specific questions you can reach out to the CoLlearn Platform."
      ]
    }
  ],
  "metadata": {
    "colab": {
      "collapsed_sections": [],
      "name": "PyhtonForFinance-Workshop-Session1.ipynb",
      "provenance": [],
      "include_colab_link": true
    },
    "kernelspec": {
      "display_name": "Python 3",
      "language": "python",
      "name": "python3"
    },
    "language_info": {
      "codemirror_mode": {
        "name": "ipython",
        "version": 3
      },
      "file_extension": ".py",
      "mimetype": "text/x-python",
      "name": "python",
      "nbconvert_exporter": "python",
      "pygments_lexer": "ipython3",
      "version": "3.8.3"
    }
  },
  "nbformat": 4,
  "nbformat_minor": 0
}